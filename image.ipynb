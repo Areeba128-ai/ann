{
  "nbformat": 4,
  "nbformat_minor": 0,
  "metadata": {
    "colab": {
      "provenance": []
    },
    "kernelspec": {
      "name": "python3",
      "display_name": "Python 3"
    },
    "language_info": {
      "name": "python"
    }
  },
  "cells": [
    {
      "cell_type": "code",
      "execution_count": null,
      "metadata": {
        "id": "re4aYjjPmtVG"
      },
      "outputs": [],
      "source": [
        "# ---------- PyTorch ----------\n",
        "import torch\n",
        "\n",
        "# Create a 5x5 grayscale image (integers 0–255)\n",
        "image = torch.tensor([\n",
        "    [ 50, 100, 150, 200, 250],\n",
        "    [ 30,  60,  90, 120, 150],\n",
        "    [ 10,  20,  30,  40,  50],\n",
        "    [255, 200, 150, 100,  50],\n",
        "    [  0,  25,  50,  75, 100]\n",
        "], dtype=torch.float32)   # float32 helps with later math\n",
        "print(\"Original Image:\\n\", image)\n",
        "print(\"Shape:\", image.shape)\n",
        "\n",
        "normalized_image = image / 255.0\n",
        "print(\"\\nNormalized Image:\\n\", normalized_image)\n",
        "\n",
        "kernel = torch.ones((3,3), dtype=torch.float32)\n",
        "print(\"\\nKernel:\\n\", kernel)\n",
        "\n",
        "# Select a 3x3 region from the normalized image (top-left corner for example)\n",
        "region = normalized_image[0:3, 0:3]  # first 3 rows, first 3 cols\n",
        "print(\"\\nSelected Region:\\n\", region)\n",
        "\n",
        "# Element-wise multiplication\n",
        "filtered_region = region * kernel\n",
        "print(\"\\nFiltered Region (element-wise *):\\n\", filtered_region)\n",
        "\n",
        "average_brightness = torch.mean(normalized_image)\n",
        "print(\"\\nAverage Brightness:\", average_brightness.item())"
      ]
    },
    {
      "cell_type": "code",
      "source": [],
      "metadata": {
        "id": "uxcvHSlvn-dm"
      },
      "execution_count": null,
      "outputs": []
    }
  ]
}