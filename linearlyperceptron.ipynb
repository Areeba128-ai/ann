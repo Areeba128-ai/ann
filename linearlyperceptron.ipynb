{
  "nbformat": 4,
  "nbformat_minor": 0,
  "metadata": {
    "colab": {
      "provenance": []
    },
    "kernelspec": {
      "name": "python3",
      "display_name": "Python 3"
    },
    "language_info": {
      "name": "python"
    }
  },
  "cells": [
    {
      "cell_type": "code",
      "execution_count": null,
      "metadata": {
        "id": "QzYV8CNMFHnM"
      },
      "outputs": [],
      "source": [
        "import numpy as np\n",
        "import matplotlib.pyplot as plt\n",
        "from sklearn.datasets import make_blobs\n",
        "from sklearn.linear_model import Perceptron\n",
        "from sklearn.metrics import accuracy_score\n",
        "\n",
        "X, y = make_blobs(n_samples=200,\n",
        "                  centers=[(-3, -3), (3, 3)],\n",
        "                  cluster_std=0.6,\n",
        "                  random_state=42)\n",
        "\n",
        "configs = [\n",
        "    {\"name\": \"max_iter=1\",   \"clf\": Perceptron(fit_intercept=True, max_iter=1,   tol=None, eta0=1.0, random_state=0)},\n",
        "    {\"name\": \"max_iter=5\",   \"clf\": Perceptron(fit_intercept=True, max_iter=5,   tol=None, eta0=1.0, random_state=0)},\n",
        "    {\"name\": \"max_iter=50\",  \"clf\": Perceptron(fit_intercept=True, max_iter=50,  tol=None, eta0=1.0, random_state=0)},\n",
        "]\n",
        "\n",
        "for cfg in configs:\n",
        "    clf = cfg[\"clf\"].fit(X, y)\n",
        "    cfg[\"w\"] = clf.coef_.ravel().copy()\n",
        "    cfg[\"b\"] = float(clf.intercept_)\n",
        "    cfg[\"acc\"] = accuracy_score(y, clf.predict(X))\n",
        "\n",
        "for cfg in configs:\n",
        "    print(f\"{cfg['name']}: acc={cfg['acc']:.3f}, w={cfg['w']}, b={cfg['b']:.3f}\")\n",
        "\n",
        "def plot_boundary(w,b,label,color):\n",
        "    x_vals = np.linspace(X[:,0].min()-1.0,X[:,0].max()+1.0,300)\n",
        "    if abs(w[1])<1e-12:\n",
        "        x0 = -b/(w[0]+1e-12)\n",
        "        plt.axvline(x0,linewidth=2,label=label,c=color)          # 🔹 Added color for vertical boundaries\n",
        "    else:\n",
        "        y_vals = -(b + w[0]*x_vals)/w[1]\n",
        "        plt.plot(x_vals,y_vals,linewidth=2,label=label,c=color)  # 🔹 Added color for boundaries\n",
        "\n",
        "plt.figure(figsize=(6,5))\n",
        "\n",
        "# Scatter points with new colors\n",
        "plt.scatter(X[y==0,0],X[y==0,1],\n",
        "            marker='o',alpha=0.8,label='class 0',c='royalblue')     # 🔹 Class 0\n",
        "plt.scatter(X[y==1,0],X[y==1,1],\n",
        "            marker='s',alpha=0.8,label='class 1',c='goldenrod')     # 🔹 Class 1\n",
        "\n",
        "# Define colors for each decision boundary\n",
        "boundary_colors = ['crimson','limegreen','purple','orange']         # 🔹 Boundary colors\n",
        "\n",
        "# Draw decision boundaries for each config\n",
        "for cfg,color in zip(configs,boundary_colors):\n",
        "    plot_boundary(cfg[\"w\"],cfg[\"b\"],cfg[\"name\"],color=color)\n",
        "\n",
        "plt.title(\"Perceptron on Separable Blobs: Decision Boundaries\",color='midnightblue')  # 🔹 Title color\n",
        "plt.xlabel(\"x1\"); plt.ylabel(\"x2\")\n",
        "plt.grid(True,color='lightgray',linestyle='--',alpha=0.7)                              # 🔹 Grid style\n",
        "plt.legend(loc=\"best\")\n",
        "plt.show()\n"
      ]
    }
  ]
}